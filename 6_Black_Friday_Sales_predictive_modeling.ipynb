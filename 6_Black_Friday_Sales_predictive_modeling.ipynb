{
  "nbformat": 4,
  "nbformat_minor": 0,
  "metadata": {
    "colab": {
      "provenance": []
    },
    "kernelspec": {
      "name": "python3",
      "display_name": "Python 3"
    },
    "language_info": {
      "name": "python"
    }
  },
  "cells": [
    {
      "cell_type": "markdown",
      "source": [
        "# 6  **Black_Friday_Sales_predictive_modeling.py**"
      ],
      "metadata": {
        "id": "EnhBoz1okEmd"
      }
    },
    {
      "cell_type": "code",
      "source": [
        "import pandas as pd\n",
        "from sklearn.model_selection import train_test_split\n",
        "from sklearn.linear_model import LinearRegression\n",
        "from sklearn.metrics import mean_squared_error, r2_score\n"
      ],
      "metadata": {
        "id": "0v9Z7l_-p7kb"
      },
      "execution_count": 40,
      "outputs": []
    },
    {
      "cell_type": "code",
      "source": [
        "df = pd.read_csv(\"BlackFriday.csv\")\n",
        "df.columns = df.columns.str.strip()"
      ],
      "metadata": {
        "id": "V7lukN_BqToQ"
      },
      "execution_count": 41,
      "outputs": []
    },
    {
      "cell_type": "code",
      "source": [
        "df['Product_Category_2'].fillna(df['Product_Category_2'].median(), inplace=True)\n",
        "df['Product_Category_3'].fillna(df['Product_Category_3'].median(), inplace=True)"
      ],
      "metadata": {
        "colab": {
          "base_uri": "https://localhost:8080/"
        },
        "id": "i3f1jWScqV16",
        "outputId": "d68a3f9f-e6f3-4e9b-8841-f517530f28a9"
      },
      "execution_count": 42,
      "outputs": [
        {
          "output_type": "stream",
          "name": "stderr",
          "text": [
            "/tmp/ipython-input-2490066702.py:1: FutureWarning: A value is trying to be set on a copy of a DataFrame or Series through chained assignment using an inplace method.\n",
            "The behavior will change in pandas 3.0. This inplace method will never work because the intermediate object on which we are setting values always behaves as a copy.\n",
            "\n",
            "For example, when doing 'df[col].method(value, inplace=True)', try using 'df.method({col: value}, inplace=True)' or df[col] = df[col].method(value) instead, to perform the operation inplace on the original object.\n",
            "\n",
            "\n",
            "  df['Product_Category_2'].fillna(df['Product_Category_2'].median(), inplace=True)\n",
            "/tmp/ipython-input-2490066702.py:2: FutureWarning: A value is trying to be set on a copy of a DataFrame or Series through chained assignment using an inplace method.\n",
            "The behavior will change in pandas 3.0. This inplace method will never work because the intermediate object on which we are setting values always behaves as a copy.\n",
            "\n",
            "For example, when doing 'df[col].method(value, inplace=True)', try using 'df.method({col: value}, inplace=True)' or df[col] = df[col].method(value) instead, to perform the operation inplace on the original object.\n",
            "\n",
            "\n",
            "  df['Product_Category_3'].fillna(df['Product_Category_3'].median(), inplace=True)\n"
          ]
        }
      ]
    },
    {
      "cell_type": "code",
      "source": [
        "df['Gender'] = df['Gender'].map({'F': 0, 'M': 1})\n",
        "age_order = ['0-17', '18-25', '26-35', '36-45', '46-50', '51-55', '55+']\n",
        "df['Age'] = pd.Categorical(df['Age'], categories=age_order, ordered=True).codes\n",
        "df = pd.get_dummies(df, columns=['City_Category'], drop_first=True)\n",
        "df['Stay_In_Current_City_Years'] = df['Stay_In_Current_City_Years'].replace('4+', 4).astype(int)"
      ],
      "metadata": {
        "id": "ohgXhZSyqZmM"
      },
      "execution_count": 43,
      "outputs": []
    },
    {
      "cell_type": "code",
      "source": [
        "df['Total_Product_Interest'] = df[['Product_Category_1', 'Product_Category_2', 'Product_Category_3']].sum(axis=1)"
      ],
      "metadata": {
        "id": "U7AeOLNRqiDl"
      },
      "execution_count": 44,
      "outputs": []
    },
    {
      "cell_type": "code",
      "source": [
        "df_model = df.drop(['User_ID', 'Product_ID'], axis=1)"
      ],
      "metadata": {
        "id": "m7liMa9hqmA2"
      },
      "execution_count": 45,
      "outputs": []
    },
    {
      "cell_type": "code",
      "source": [
        "# ----- Train-Test Split -----\n",
        "X = df_model.drop('Purchase', axis=1)\n",
        "y = df_model['Purchase']\n",
        "X_train, X_test, y_train, y_test = train_test_split(X, y, test_size=0.2, random_state=42)\n",
        "\n",
        "# ----- Train Model -----\n",
        "lr = LinearRegression()\n",
        "lr.fit(X_train, y_train)\n",
        "\n",
        "# ----- Predict and Evaluate -----\n",
        "y_pred = lr.predict(X_test)\n",
        "rmse = mean_squared_error(y_test, y_pred) ** 0.5\n",
        "\n",
        "r2 = r2_score(y_test, y_pred)\n",
        "\n",
        "# ----- Results -----\n",
        "print(\"📊 Linear Regression Model Performance\")\n",
        "print(\"RMSE:\", round(rmse, 2))\n",
        "print(\"R² Score:\", round(r2, 4))"
      ],
      "metadata": {
        "colab": {
          "base_uri": "https://localhost:8080/"
        },
        "id": "JKouT3YeqtPL",
        "outputId": "a012fe20-55e2-45c1-f326-0384f5f1bfad"
      },
      "execution_count": 48,
      "outputs": [
        {
          "output_type": "stream",
          "name": "stdout",
          "text": [
            "📊 Linear Regression Model Performance\n",
            "RMSE: 4712.47\n",
            "R² Score: 0.1058\n"
          ]
        }
      ]
    },
    {
      "cell_type": "code",
      "source": [],
      "metadata": {
        "id": "ZG4NI7D6qyof"
      },
      "execution_count": null,
      "outputs": []
    }
  ]
}
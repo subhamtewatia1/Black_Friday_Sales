{
  "nbformat": 4,
  "nbformat_minor": 0,
  "metadata": {
    "colab": {
      "provenance": []
    },
    "kernelspec": {
      "name": "python3",
      "display_name": "Python 3"
    },
    "language_info": {
      "name": "python"
    }
  },
  "cells": [
    {
      "cell_type": "markdown",
      "source": [
        "# 3 **Black_Friday_Sales_missing_data_analysis**.py"
      ],
      "metadata": {
        "id": "EnhBoz1okEmd"
      }
    },
    {
      "cell_type": "code",
      "source": [
        "import pandas as pd\n",
        "\n",
        "# Load and clean dataset\n",
        "df = pd.read_csv(\"BlackFriday.csv\")\n",
        "df.columns = df.columns.str.strip()\n"
      ],
      "metadata": {
        "id": "QbAbDf7olBN7"
      },
      "execution_count": 17,
      "outputs": []
    },
    {
      "cell_type": "code",
      "source": [
        "# ----- Missing Data Analysis -----\n",
        "\n",
        "# Count and percentage of missing values\n",
        "missing = df.isnull().sum()\n",
        "missing_percent = (missing / len(df)) * 100\n",
        "missing_report = pd.DataFrame({'Missing Values': missing, 'Percentage (%)': missing_percent})\n",
        "print(\"📋 Missing Data Report:\\n\")\n",
        "print(missing_report[missing_report['Missing Values'] > 0])"
      ],
      "metadata": {
        "colab": {
          "base_uri": "https://localhost:8080/"
        },
        "id": "oeI-OBpnlK78",
        "outputId": "8ca274b3-5b5f-47c9-d3a1-d519305d80c9"
      },
      "execution_count": 18,
      "outputs": [
        {
          "output_type": "stream",
          "name": "stdout",
          "text": [
            "📋 Missing Data Report:\n",
            "\n",
            "                    Missing Values  Percentage (%)\n",
            "Product_Category_2          166986       31.062713\n",
            "Product_Category_3          373299       69.441029\n"
          ]
        }
      ]
    },
    {
      "cell_type": "code",
      "source": [
        "# ----- Handling Missing Values -----\n",
        "\n",
        "# Fill numerical columns with median\n",
        "df['Product_Category_2'].fillna(df['Product_Category_2'].median(), inplace=True)\n",
        "df['Product_Category_3'].fillna(df['Product_Category_3'].median(), inplace=True)\n",
        "\n",
        "print(\"\\n✅ Missing values handled successfully.\")\n"
      ],
      "metadata": {
        "colab": {
          "base_uri": "https://localhost:8080/"
        },
        "id": "V27Voo1slNtj",
        "outputId": "abc2ab85-e810-4d1f-a8f9-47cb1a593ceb"
      },
      "execution_count": 19,
      "outputs": [
        {
          "output_type": "stream",
          "name": "stdout",
          "text": [
            "\n",
            "✅ Missing values handled successfully.\n"
          ]
        },
        {
          "output_type": "stream",
          "name": "stderr",
          "text": [
            "/tmp/ipython-input-3263123025.py:4: FutureWarning: A value is trying to be set on a copy of a DataFrame or Series through chained assignment using an inplace method.\n",
            "The behavior will change in pandas 3.0. This inplace method will never work because the intermediate object on which we are setting values always behaves as a copy.\n",
            "\n",
            "For example, when doing 'df[col].method(value, inplace=True)', try using 'df.method({col: value}, inplace=True)' or df[col] = df[col].method(value) instead, to perform the operation inplace on the original object.\n",
            "\n",
            "\n",
            "  df['Product_Category_2'].fillna(df['Product_Category_2'].median(), inplace=True)\n",
            "/tmp/ipython-input-3263123025.py:5: FutureWarning: A value is trying to be set on a copy of a DataFrame or Series through chained assignment using an inplace method.\n",
            "The behavior will change in pandas 3.0. This inplace method will never work because the intermediate object on which we are setting values always behaves as a copy.\n",
            "\n",
            "For example, when doing 'df[col].method(value, inplace=True)', try using 'df.method({col: value}, inplace=True)' or df[col] = df[col].method(value) instead, to perform the operation inplace on the original object.\n",
            "\n",
            "\n",
            "  df['Product_Category_3'].fillna(df['Product_Category_3'].median(), inplace=True)\n"
          ]
        }
      ]
    },
    {
      "cell_type": "code",
      "source": [
        "# Fill numerical columns with median\n",
        "df['Product_Category_2'].fillna(df['Product_Category_2'].median(), inplace=True)\n",
        "df['Product_Category_3'].fillna(df['Product_Category_3'].median(), inplace=True)"
      ],
      "metadata": {
        "colab": {
          "base_uri": "https://localhost:8080/"
        },
        "id": "1cH7BeX7lTKi",
        "outputId": "46ee52e7-d4eb-4e07-c484-98c615f228de"
      },
      "execution_count": 20,
      "outputs": [
        {
          "output_type": "stream",
          "name": "stderr",
          "text": [
            "/tmp/ipython-input-418659300.py:2: FutureWarning: A value is trying to be set on a copy of a DataFrame or Series through chained assignment using an inplace method.\n",
            "The behavior will change in pandas 3.0. This inplace method will never work because the intermediate object on which we are setting values always behaves as a copy.\n",
            "\n",
            "For example, when doing 'df[col].method(value, inplace=True)', try using 'df.method({col: value}, inplace=True)' or df[col] = df[col].method(value) instead, to perform the operation inplace on the original object.\n",
            "\n",
            "\n",
            "  df['Product_Category_2'].fillna(df['Product_Category_2'].median(), inplace=True)\n",
            "/tmp/ipython-input-418659300.py:3: FutureWarning: A value is trying to be set on a copy of a DataFrame or Series through chained assignment using an inplace method.\n",
            "The behavior will change in pandas 3.0. This inplace method will never work because the intermediate object on which we are setting values always behaves as a copy.\n",
            "\n",
            "For example, when doing 'df[col].method(value, inplace=True)', try using 'df.method({col: value}, inplace=True)' or df[col] = df[col].method(value) instead, to perform the operation inplace on the original object.\n",
            "\n",
            "\n",
            "  df['Product_Category_3'].fillna(df['Product_Category_3'].median(), inplace=True)\n"
          ]
        }
      ]
    },
    {
      "cell_type": "code",
      "source": [
        "df_dropped_rows = df[df.isnull().sum(axis=1) <= 1]"
      ],
      "metadata": {
        "id": "ltD3fGtClwDE"
      },
      "execution_count": 21,
      "outputs": []
    },
    {
      "cell_type": "code",
      "source": [
        "df_dropped_cols = df.loc[:, df.isnull().mean() < 0.7]"
      ],
      "metadata": {
        "id": "DCO5tBFDl19M"
      },
      "execution_count": 22,
      "outputs": []
    },
    {
      "cell_type": "code",
      "source": [
        "print(\"\\n🧼 Cleaned dataset shape:\", df.shape)\n"
      ],
      "metadata": {
        "colab": {
          "base_uri": "https://localhost:8080/"
        },
        "id": "8ILGfKW5l4xa",
        "outputId": "40c982c4-52a9-4c11-dc17-97e7b894b5e4"
      },
      "execution_count": 23,
      "outputs": [
        {
          "output_type": "stream",
          "name": "stdout",
          "text": [
            "\n",
            "🧼 Cleaned dataset shape: (537577, 12)\n"
          ]
        }
      ]
    }
  ]
}
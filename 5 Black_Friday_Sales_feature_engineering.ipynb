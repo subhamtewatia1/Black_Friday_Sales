{
  "nbformat": 4,
  "nbformat_minor": 0,
  "metadata": {
    "colab": {
      "provenance": []
    },
    "kernelspec": {
      "name": "python3",
      "display_name": "Python 3"
    },
    "language_info": {
      "name": "python"
    }
  },
  "cells": [
    {
      "cell_type": "markdown",
      "source": [
        "# 5  **Black_Friday_Sales_feature_engineering.py**"
      ],
      "metadata": {
        "id": "EnhBoz1okEmd"
      }
    },
    {
      "cell_type": "code",
      "source": [
        "import pandas as pd\n",
        "\n",
        "# Load the dataset\n",
        "df = pd.read_csv(\"BlackFriday.csv\")\n",
        "df.columns = df.columns.str.strip()"
      ],
      "metadata": {
        "id": "OPc0NBlVoQOq"
      },
      "execution_count": 29,
      "outputs": []
    },
    {
      "cell_type": "code",
      "source": [
        "# ----- Encode Categorical Variables -----\n",
        "# Gender: F → 0, M → 1\n",
        "df['Gender'] = df['Gender'].map({'F': 0, 'M': 1})\n",
        "\n"
      ],
      "metadata": {
        "id": "3aZIXxYUn-4C"
      },
      "execution_count": 30,
      "outputs": []
    },
    {
      "cell_type": "code",
      "source": [
        "# Age: Convert to ordered categorical codes (e.g., 0-17 < 18-25 < ... < 55+)\n",
        "age_order = ['0-17', '18-25', '26-35', '36-45', '46-50', '51-55', '55+']\n",
        "df['Age'] = pd.Categorical(df['Age'], categories=age_order, ordered=True).codes"
      ],
      "metadata": {
        "id": "psfZiOiOpAh7"
      },
      "execution_count": 31,
      "outputs": []
    },
    {
      "cell_type": "code",
      "source": [
        "# City_Category: One-hot encoding\n",
        "# The City_Category column has already been one-hot encoded in a previous step.\n",
        "# df = pd.get_dummies(df, columns=['City_Category'], drop_first=True)"
      ],
      "metadata": {
        "id": "oTykVEWjpDRR"
      },
      "execution_count": 35,
      "outputs": []
    },
    {
      "cell_type": "code",
      "source": [
        "# Stay_In_Current_City_Years: Convert '4+' to 4, then to int\n",
        "df['Stay_In_Current_City_Years'] = df['Stay_In_Current_City_Years'].replace('4+', 4).astype(int)"
      ],
      "metadata": {
        "id": "AZgJAN42pIjA"
      },
      "execution_count": 36,
      "outputs": []
    },
    {
      "cell_type": "code",
      "source": [
        "\n",
        "df['Total_Product_Interest'] = df[['Product_Category_1', 'Product_Category_2', 'Product_Category_3']].sum(axis=1)\n",
        "\n",
        "# ----- Drop Irrelevant Columns -----\n",
        "df_model = df.drop(['User_ID', 'Product_ID'], axis=1)\n",
        "\n",
        "\n",
        "# Show sample\n",
        "print(\"✅ Feature Engineering Completed. Sample data:\\n\")\n",
        "print(df_model.head())"
      ],
      "metadata": {
        "colab": {
          "base_uri": "https://localhost:8080/"
        },
        "id": "MfJQjVO2pP7m",
        "outputId": "418e5d4f-75b0-41c1-f149-f271d6156413"
      },
      "execution_count": 37,
      "outputs": [
        {
          "output_type": "stream",
          "name": "stdout",
          "text": [
            "✅ Feature Engineering Completed. Sample data:\n",
            "\n",
            "   Gender  Age  Occupation  Stay_In_Current_City_Years  Marital_Status  \\\n",
            "0       0    0          10                           2               0   \n",
            "1       0    0          10                           2               0   \n",
            "2       0    0          10                           2               0   \n",
            "3       0    0          10                           2               0   \n",
            "4       1    6          16                           4               0   \n",
            "\n",
            "   Product_Category_1  Product_Category_2  Product_Category_3  Purchase  \\\n",
            "0                   3                 NaN                 NaN      8370   \n",
            "1                   1                 6.0                14.0     15200   \n",
            "2                  12                 NaN                 NaN      1422   \n",
            "3                  12                14.0                 NaN      1057   \n",
            "4                   8                 NaN                 NaN      7969   \n",
            "\n",
            "   City_Category_B  City_Category_C  Total_Product_Interest  \n",
            "0            False            False                     3.0  \n",
            "1            False            False                    21.0  \n",
            "2            False            False                    12.0  \n",
            "3            False            False                    26.0  \n",
            "4            False             True                     8.0  \n"
          ]
        }
      ]
    },
    {
      "cell_type": "code",
      "source": [],
      "metadata": {
        "id": "8SgyYgE_pWxX"
      },
      "execution_count": null,
      "outputs": []
    }
  ]
}